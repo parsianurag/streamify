{
 "cells": [
  {
   "cell_type": "markdown",
   "id": "07a7d09b",
   "metadata": {},
   "source": [
    "# K Means Clustering Algorithums Implementation"
   ]
  },
  {
   "cell_type": "code",
   "execution_count": 3,
   "id": "9d0f0633",
   "metadata": {},
   "outputs": [],
   "source": [
    "import matplotlib.pyplot as plt\n",
    "from sklearn.datasets import make_blobs\n",
    "import pandas as pd\n",
    "import numpy as np\n",
    "%matplotlib inline"
   ]
  },
  {
   "cell_type": "code",
   "execution_count": 4,
   "id": "fa6d3906",
   "metadata": {},
   "outputs": [],
   "source": [
    "X,y=make_blobs(n_samples=1000,centers=3,n_features=2)"
   ]
  },
  {
   "cell_type": "code",
   "execution_count": 5,
   "id": "6f157279",
   "metadata": {},
   "outputs": [
    {
     "data": {
      "text/plain": [
       "array([[-7.55568101, -5.27498632],\n",
       "       [ 2.89355243,  3.30096154],\n",
       "       [-9.41533071, -2.7024256 ],\n",
       "       ...,\n",
       "       [-0.10383663, -4.16603386],\n",
       "       [-1.17498576, -3.61824237],\n",
       "       [-7.5802055 , -6.29405604]])"
      ]
     },
     "execution_count": 5,
     "metadata": {},
     "output_type": "execute_result"
    }
   ],
   "source": [
    "X"
   ]
  },
  {
   "cell_type": "code",
   "execution_count": 6,
   "id": "6e5ff098",
   "metadata": {},
   "outputs": [
    {
     "data": {
      "text/plain": [
       "array([1, 2, 1, 2, 1, 0, 0, 0, 2, 0, 0, 1, 0, 0, 2, 1, 2, 0, 0, 1, 0, 2,\n",
       "       2, 2, 0, 2, 0, 2, 0, 0, 2, 0, 1, 0, 2, 0, 2, 0, 0, 1, 1, 1, 1, 2,\n",
       "       2, 0, 1, 0, 1, 1, 1, 2, 1, 0, 0, 1, 0, 0, 0, 2, 2, 1, 2, 0, 1, 2,\n",
       "       0, 1, 1, 1, 2, 1, 1, 0, 2, 1, 1, 2, 2, 2, 0, 2, 1, 0, 1, 0, 0, 2,\n",
       "       2, 0, 2, 0, 1, 1, 0, 0, 2, 1, 0, 1, 2, 0, 0, 2, 2, 1, 0, 1, 0, 0,\n",
       "       0, 2, 1, 2, 1, 0, 2, 2, 2, 2, 0, 1, 2, 1, 0, 1, 1, 0, 0, 1, 0, 0,\n",
       "       1, 2, 1, 1, 2, 1, 0, 0, 1, 1, 2, 0, 1, 2, 1, 1, 0, 0, 2, 0, 2, 1,\n",
       "       0, 0, 0, 0, 2, 0, 2, 0, 1, 1, 0, 0, 2, 2, 0, 1, 1, 2, 0, 1, 0, 1,\n",
       "       1, 0, 1, 1, 1, 0, 1, 0, 2, 2, 0, 1, 2, 0, 2, 1, 2, 0, 2, 1, 2, 2,\n",
       "       1, 0, 1, 0, 2, 1, 0, 2, 1, 1, 0, 2, 0, 0, 0, 0, 1, 2, 2, 1, 2, 2,\n",
       "       0, 1, 1, 2, 1, 0, 2, 0, 2, 2, 2, 2, 0, 1, 2, 1, 2, 0, 2, 1, 2, 0,\n",
       "       1, 1, 0, 2, 0, 0, 1, 0, 1, 2, 1, 1, 2, 2, 2, 2, 2, 2, 2, 1, 0, 2,\n",
       "       0, 0, 2, 0, 0, 0, 1, 1, 0, 2, 1, 0, 1, 1, 1, 0, 0, 1, 2, 1, 1, 2,\n",
       "       0, 1, 1, 0, 2, 2, 1, 0, 2, 1, 1, 1, 0, 0, 0, 0, 0, 0, 2, 1, 0, 0,\n",
       "       0, 2, 0, 1, 0, 0, 2, 1, 0, 2, 0, 2, 2, 0, 1, 0, 1, 1, 1, 1, 1, 2,\n",
       "       2, 0, 1, 1, 0, 2, 1, 2, 0, 0, 1, 2, 2, 2, 1, 0, 1, 0, 2, 2, 0, 1,\n",
       "       1, 1, 2, 1, 2, 0, 1, 0, 0, 1, 1, 1, 0, 0, 1, 2, 0, 1, 0, 2, 1, 1,\n",
       "       1, 1, 2, 2, 0, 2, 0, 1, 0, 0, 2, 0, 1, 1, 1, 2, 0, 2, 0, 0, 1, 2,\n",
       "       1, 1, 2, 2, 2, 1, 2, 1, 2, 0, 0, 1, 0, 0, 1, 1, 0, 2, 2, 2, 2, 2,\n",
       "       2, 0, 2, 2, 0, 0, 1, 0, 2, 2, 2, 2, 0, 0, 1, 1, 1, 1, 2, 2, 0, 1,\n",
       "       2, 0, 0, 2, 0, 2, 2, 1, 2, 0, 2, 2, 1, 0, 0, 1, 1, 2, 1, 2, 2, 1,\n",
       "       2, 0, 0, 1, 1, 0, 0, 2, 0, 1, 1, 0, 1, 0, 0, 0, 2, 1, 1, 0, 1, 1,\n",
       "       1, 2, 0, 2, 2, 1, 2, 0, 2, 0, 0, 1, 0, 1, 2, 0, 2, 1, 2, 1, 2, 0,\n",
       "       2, 2, 1, 0, 2, 1, 0, 1, 2, 0, 1, 0, 1, 1, 2, 0, 2, 2, 1, 2, 2, 1,\n",
       "       2, 1, 1, 2, 0, 2, 2, 2, 0, 1, 0, 1, 1, 1, 1, 2, 1, 1, 2, 2, 0, 1,\n",
       "       2, 2, 0, 2, 1, 0, 1, 2, 2, 0, 0, 1, 2, 1, 0, 2, 2, 2, 1, 2, 0, 1,\n",
       "       2, 0, 1, 1, 1, 0, 0, 2, 1, 0, 0, 1, 2, 2, 0, 0, 2, 1, 2, 0, 0, 1,\n",
       "       2, 0, 1, 2, 1, 2, 1, 2, 0, 2, 0, 0, 1, 2, 1, 0, 2, 2, 2, 2, 0, 0,\n",
       "       0, 2, 0, 2, 1, 0, 0, 1, 0, 2, 1, 0, 2, 1, 1, 2, 2, 0, 0, 2, 2, 1,\n",
       "       0, 0, 0, 0, 2, 1, 0, 2, 1, 1, 1, 1, 1, 2, 0, 1, 0, 2, 1, 1, 1, 2,\n",
       "       0, 2, 2, 0, 1, 2, 0, 0, 0, 2, 2, 0, 0, 2, 2, 0, 0, 0, 2, 2, 2, 2,\n",
       "       1, 0, 0, 2, 0, 2, 0, 0, 0, 0, 1, 1, 1, 1, 2, 1, 2, 1, 2, 2, 2, 1,\n",
       "       1, 0, 1, 1, 1, 1, 1, 0, 0, 2, 2, 0, 2, 0, 2, 2, 1, 1, 2, 1, 1, 0,\n",
       "       0, 1, 0, 0, 2, 2, 2, 1, 0, 0, 2, 1, 2, 1, 0, 1, 2, 0, 1, 0, 2, 0,\n",
       "       2, 1, 2, 0, 0, 1, 2, 1, 1, 1, 2, 1, 1, 0, 0, 1, 2, 1, 1, 2, 1, 1,\n",
       "       2, 0, 1, 2, 1, 0, 0, 0, 1, 2, 2, 2, 1, 0, 1, 1, 1, 0, 1, 2, 2, 1,\n",
       "       1, 1, 0, 2, 0, 2, 2, 0, 0, 1, 0, 0, 2, 1, 0, 2, 2, 2, 2, 2, 2, 1,\n",
       "       1, 1, 2, 1, 2, 0, 2, 2, 2, 1, 0, 1, 1, 0, 2, 0, 1, 0, 2, 1, 0, 1,\n",
       "       2, 2, 1, 1, 2, 1, 2, 2, 0, 2, 2, 0, 0, 0, 2, 0, 2, 2, 2, 0, 2, 1,\n",
       "       2, 1, 1, 2, 0, 0, 1, 2, 0, 2, 2, 2, 2, 2, 1, 2, 1, 1, 0, 2, 1, 1,\n",
       "       1, 0, 0, 0, 0, 1, 0, 2, 1, 2, 2, 0, 2, 1, 1, 1, 0, 2, 1, 0, 1, 2,\n",
       "       1, 2, 0, 0, 0, 1, 0, 2, 2, 0, 0, 0, 1, 2, 0, 1, 1, 0, 0, 1, 0, 2,\n",
       "       1, 1, 1, 2, 1, 2, 1, 1, 0, 0, 1, 2, 2, 0, 1, 0, 1, 1, 0, 1, 1, 1,\n",
       "       0, 2, 2, 2, 2, 1, 1, 1, 0, 1, 0, 0, 2, 1, 1, 2, 1, 0, 2, 0, 0, 1,\n",
       "       1, 2, 0, 2, 2, 0, 0, 1, 2, 0, 2, 0, 2, 1, 0, 2, 2, 0, 0, 0, 0, 2,\n",
       "       0, 2, 2, 1, 1, 2, 0, 0, 0, 1])"
      ]
     },
     "execution_count": 6,
     "metadata": {},
     "output_type": "execute_result"
    }
   ],
   "source": [
    "y"
   ]
  },
  {
   "cell_type": "code",
   "execution_count": 7,
   "id": "bb3ee95b",
   "metadata": {},
   "outputs": [
    {
     "data": {
      "text/plain": [
       "<matplotlib.collections.PathCollection at 0x1b5b5ced940>"
      ]
     },
     "execution_count": 7,
     "metadata": {},
     "output_type": "execute_result"
    },
    {
     "data": {
      "image/png": "[encoded data removed]",
      "text/plain": [
       "<Figure size 432x288 with 1 Axes>"
      ]
     },
     "metadata": {
      "needs_background": "light"
     },
     "output_type": "display_data"
    }
   ],
   "source": [
    "plt.scatter(X[:,0],X[:,1],c=y)"
   ]
  },
  {
   "cell_type": "code",
   "execution_count": 9,
   "id": "f07fb48d",
   "metadata": {},
   "outputs": [],
   "source": [
    "from sklearn.model_selection import train_test_split"
   ]
  },
  {
   "cell_type": "code",
   "execution_count": 10,
   "id": "3b8def06",
   "metadata": {},
   "outputs": [],
   "source": [
    "X_train,X_test,y_train,y_test=train_test_split(X,y,test_size=0.33,random_state=42)"
   ]
  },
  {
   "cell_type": "code",
   "execution_count": 11,
   "id": "bdd1a8eb",
   "metadata": {},
   "outputs": [],
   "source": [
    "from sklearn.cluster import KMeans"
   ]
  },
  {
   "cell_type": "code",
   "execution_count": 13,
   "id": "5de9710c",
   "metadata": {},
   "outputs": [
    {
     "name": "stderr",
     "output_type": "stream",
     "text": [
      "C:\\ProgramData\\Anaconda3\\lib\\site-packages\\sklearn\\cluster\\_kmeans.py:1036: UserWarning: KMeans is known to have a memory leak on Windows with MKL, when there are less chunks than available threads. You can avoid it by setting the environment variable OMP_NUM_THREADS=3.\n",
      "  warnings.warn(\n"
     ]
    }
   ],
   "source": [
    "#Elbow method to select the K Value\n",
    "wcss=[]\n",
    "for k in range(1,11):\n",
    "    kmeans=KMeans(n_clusters=k,init='k-means++')\n",
    "    kmeans.fit(X_train)\n",
    "    wcss.append(kmeans.inertia_)"
   ]
  },
  {
   "cell_type": "code",
   "execution_count": 14,
   "id": "6b60d4ca",
   "metadata": {},
   "outputs": [
    {
     "data": {
      "text/plain": [
       "[31362.22806970929,\n",
       " 8877.818434440984,\n",
       " 1302.4766299736273,\n",
       " 1148.0556421716926,\n",
       " 1005.215522209199,\n",
       " 870.5450167425242,\n",
       " 743.7852396512781,\n",
       " 636.8516792510956,\n",
       " 548.4701101583984,\n",
       " 508.4029167630727]"
      ]
     },
     "execution_count": 14,
     "metadata": {},
     "output_type": "execute_result"
    }
   ],
   "source": [
    "wcss"
   ]
  },
  {
   "cell_type": "code",
   "execution_count": 16,
   "id": "bd3fb681",
   "metadata": {},
   "outputs": [
    {
     "data": {
      "image/png": "[encoded data removed]",
      "text/plain": [
       "<Figure size 432x288 with 1 Axes>"
      ]
     },
     "metadata": {
      "needs_background": "light"
     },
     "output_type": "display_data"
    }
   ],
   "source": [
    "#plot elow curve\n",
    "plt.plot(range(1,11),wcss)\n",
    "plt.xticks(range(1,11))\n",
    "plt.xlabel(\"numbers of clusters\")\n",
    "plt.ylabel(\"WCSS\")\n",
    "plt.show()"
   ]
  },
  {
   "cell_type": "code",
   "execution_count": 17,
   "id": "61028272",
   "metadata": {},
   "outputs": [],
   "source": [
    "kmeans=KMeans(n_clusters=3,init=\"k-means++\")"
   ]
  },
  {
   "cell_type": "code",
   "execution_count": 20,
   "id": "792e8103",
   "metadata": {},
   "outputs": [],
   "source": [
    "y_labels=kmeans.fit_predict(X_train)"
   ]
  },
  {
   "cell_type": "code",
   "execution_count": 21,
   "id": "6cad89e4",
   "metadata": {},
   "outputs": [
    {
     "data": {
      "text/plain": [
       "<matplotlib.collections.PathCollection at 0x1b5b7e2c6a0>"
      ]
     },
     "execution_count": 21,
     "metadata": {},
     "output_type": "execute_result"
    },
    {
     "data": {
      "image/png": "[encoded data removed]",
      "text/plain": [
       "<Figure size 432x288 with 1 Axes>"
      ]
     },
     "metadata": {
      "needs_background": "light"
     },
     "output_type": "display_data"
    }
   ],
   "source": [
    "plt.scatter(X_train[:,0],X_train[:,1],c=y_labels)"
   ]
  },
  {
   "cell_type": "code",
   "execution_count": 22,
   "id": "9eb25a30",
   "metadata": {},
   "outputs": [
    {
     "name": "stdout",
     "output_type": "stream",
     "text": [
      "Defaulting to user installation because normal site-packages is not writeable\n",
      "Requirement already satisfied: kneed in c:\\users\\parsi\\appdata\\roaming\\python\\python39\\site-packages (0.8.5)\n",
      "Requirement already satisfied: scipy>=1.0.0 in c:\\programdata\\anaconda3\\lib\\site-packages (from kneed) (1.7.3)\n",
      "Requirement already satisfied: numpy>=1.14.2 in c:\\programdata\\anaconda3\\lib\\site-packages (from kneed) (1.21.5)\n"
     ]
    }
   ],
   "source": [
    "#knee locator\n",
    "!pip install kneed"
   ]
  },
  {
   "cell_type": "code",
   "execution_count": 26,
   "id": "a9d307e6",
   "metadata": {},
   "outputs": [],
   "source": [
    "from kneed import KneeLocator"
   ]
  },
  {
   "cell_type": "code",
   "execution_count": 27,
   "id": "198b3954",
   "metadata": {},
   "outputs": [],
   "source": [
    "k1=KneeLocator(range(1,11),wcss,curve='convex',direction='decreasing')"
   ]
  },
  {
   "cell_type": "code",
   "execution_count": 28,
   "id": "e71dba39",
   "metadata": {},
   "outputs": [
    {
     "data": {
      "text/plain": [
       "3"
      ]
     },
     "execution_count": 28,
     "metadata": {},
     "output_type": "execute_result"
    }
   ],
   "source": [
    "k1.elbow"
   ]
  },
  {
   "cell_type": "markdown",
   "id": "6b5211be",
   "metadata": {},
   "source": [
    "# Hierarichal Clustering Implementation"
   ]
  },
  {
   "cell_type": "code",
   "execution_count": 8,
   "id": "2c9225dc",
   "metadata": {},
   "outputs": [],
   "source": [
    "import matplotlib.pyplot as plt\n",
    "import pandas as pd\n",
    "import numpy as np\n",
    "%matplotlib inline\n",
    "from sklearn import datasets"
   ]
  },
  {
   "cell_type": "code",
   "execution_count": 9,
   "id": "907e5f32",
   "metadata": {},
   "outputs": [],
   "source": [
    "#import iris dataset\n",
    "iris=datasets.load_iris()"
   ]
  },
  {
   "cell_type": "code",
   "execution_count": 10,
   "id": "70c8d3ea",
   "metadata": {},
   "outputs": [],
   "source": [
    "iris_data=pd.DataFrame(iris.data)"
   ]
  },
  {
   "cell_type": "code",
   "execution_count": 11,
   "id": "912d1160",
   "metadata": {},
   "outputs": [],
   "source": [
    "iris_data.columns=iris.feature_names"
   ]
  },
  {
   "cell_type": "code",
   "execution_count": 12,
   "id": "0a034584",
   "metadata": {},
   "outputs": [
    {
     "data": {
      "text/html": [
       "<div>\n",
       "<style scoped>\n",
       "    .dataframe tbody tr th:only-of-type {\n",
       "        vertical-align: middle;\n",
       "    }\n",
       "\n",
       "    .dataframe tbody tr th {\n",
       "        vertical-align: top;\n",
       "    }\n",
       "\n",
       "    .dataframe thead th {\n",
       "        text-align: right;\n",
       "    }\n",
       "</style>\n",
       "<table border=\"1\" class=\"dataframe\">\n",
       "  <thead>\n",
       "    <tr style=\"text-align: right;\">\n",
       "      <th></th>\n",
       "      <th>sepal length (cm)</th>\n",
       "      <th>sepal width (cm)</th>\n",
       "      <th>petal length (cm)</th>\n",
       "      <th>petal width (cm)</th>\n",
       "    </tr>\n",
       "  </thead>\n",
       "  <tbody>\n",
       "    <tr>\n",
       "      <th>0</th>\n",
       "      <td>5.1</td>\n",
       "      <td>3.5</td>\n",
       "      <td>1.4</td>\n",
       "      <td>0.2</td>\n",
       "    </tr>\n",
       "    <tr>\n",
       "      <th>1</th>\n",
       "      <td>4.9</td>\n",
       "      <td>3.0</td>\n",
       "      <td>1.4</td>\n",
       "      <td>0.2</td>\n",
       "    </tr>\n",
       "    <tr>\n",
       "      <th>2</th>\n",
       "      <td>4.7</td>\n",
       "      <td>3.2</td>\n",
       "      <td>1.3</td>\n",
       "      <td>0.2</td>\n",
       "    </tr>\n",
       "    <tr>\n",
       "      <th>3</th>\n",
       "      <td>4.6</td>\n",
       "      <td>3.1</td>\n",
       "      <td>1.5</td>\n",
       "      <td>0.2</td>\n",
       "    </tr>\n",
       "    <tr>\n",
       "      <th>4</th>\n",
       "      <td>5.0</td>\n",
       "      <td>3.6</td>\n",
       "      <td>1.4</td>\n",
       "      <td>0.2</td>\n",
       "    </tr>\n",
       "    <tr>\n",
       "      <th>...</th>\n",
       "      <td>...</td>\n",
       "      <td>...</td>\n",
       "      <td>...</td>\n",
       "      <td>...</td>\n",
       "    </tr>\n",
       "    <tr>\n",
       "      <th>145</th>\n",
       "      <td>6.7</td>\n",
       "      <td>3.0</td>\n",
       "      <td>5.2</td>\n",
       "      <td>2.3</td>\n",
       "    </tr>\n",
       "    <tr>\n",
       "      <th>146</th>\n",
       "      <td>6.3</td>\n",
       "      <td>2.5</td>\n",
       "      <td>5.0</td>\n",
       "      <td>1.9</td>\n",
       "    </tr>\n",
       "    <tr>\n",
       "      <th>147</th>\n",
       "      <td>6.5</td>\n",
       "      <td>3.0</td>\n",
       "      <td>5.2</td>\n",
       "      <td>2.0</td>\n",
       "    </tr>\n",
       "    <tr>\n",
       "      <th>148</th>\n",
       "      <td>6.2</td>\n",
       "      <td>3.4</td>\n",
       "      <td>5.4</td>\n",
       "      <td>2.3</td>\n",
       "    </tr>\n",
       "    <tr>\n",
       "      <th>149</th>\n",
       "      <td>5.9</td>\n",
       "      <td>3.0</td>\n",
       "      <td>5.1</td>\n",
       "      <td>1.8</td>\n",
       "    </tr>\n",
       "  </tbody>\n",
       "</table>\n",
       "<p>150 rows × 4 columns</p>\n",
       "</div>"
      ],
      "text/plain": [
       "     sepal length (cm)  sepal width (cm)  petal length (cm)  petal width (cm)\n",
       "0                  5.1               3.5                1.4               0.2\n",
       "1                  4.9               3.0                1.4               0.2\n",
       "2                  4.7               3.2                1.3               0.2\n",
       "3                  4.6               3.1                1.5               0.2\n",
       "4                  5.0               3.6                1.4               0.2\n",
       "..                 ...               ...                ...               ...\n",
       "145                6.7               3.0                5.2               2.3\n",
       "146                6.3               2.5                5.0               1.9\n",
       "147                6.5               3.0                5.2               2.0\n",
       "148                6.2               3.4                5.4               2.3\n",
       "149                5.9               3.0                5.1               1.8\n",
       "\n",
       "[150 rows x 4 columns]"
      ]
     },
     "execution_count": 12,
     "metadata": {},
     "output_type": "execute_result"
    }
   ],
   "source": [
    "iris_data"
   ]
  },
  {
   "cell_type": "code",
   "execution_count": 13,
   "id": "4a0dbea8",
   "metadata": {},
   "outputs": [],
   "source": [
    "#Standardization \n",
    "from sklearn.preprocessing import StandardScaler\n",
    "scaler=StandardScaler()\n",
    "\n",
    "\n",
    "\n"
   ]
  },
  {
   "cell_type": "code",
   "execution_count": 14,
   "id": "06c4b7b5",
   "metadata": {},
   "outputs": [],
   "source": [
    "X_scaled=scaler.fit_transform(iris_data)"
   ]
  },
  {
   "cell_type": "code",
   "execution_count": 15,
   "id": "5beff74c",
   "metadata": {},
   "outputs": [
    {
     "data": {
      "text/plain": [
       "array([[-9.00681170e-01,  1.01900435e+00, -1.34022653e+00,\n",
       "        -1.31544430e+00],\n",
       "       [-1.14301691e+00, -1.31979479e-01, -1.34022653e+00,\n",
       "        -1.31544430e+00],\n",
       "       [-1.38535265e+00,  3.28414053e-01, -1.39706395e+00,\n",
       "        -1.31544430e+00],\n",
       "       [-1.50652052e+00,  9.82172869e-02, -1.28338910e+00,\n",
       "        -1.31544430e+00],\n",
       "       [-1.02184904e+00,  1.24920112e+00, -1.34022653e+00,\n",
       "        -1.31544430e+00],\n",
       "       [-5.37177559e-01,  1.93979142e+00, -1.16971425e+00,\n",
       "        -1.05217993e+00],\n",
       "       [-1.50652052e+00,  7.88807586e-01, -1.34022653e+00,\n",
       "        -1.18381211e+00],\n",
       "       [-1.02184904e+00,  7.88807586e-01, -1.28338910e+00,\n",
       "        -1.31544430e+00],\n",
       "       [-1.74885626e+00, -3.62176246e-01, -1.34022653e+00,\n",
       "        -1.31544430e+00],\n",
       "       [-1.14301691e+00,  9.82172869e-02, -1.28338910e+00,\n",
       "        -1.44707648e+00],\n",
       "       [-5.37177559e-01,  1.47939788e+00, -1.28338910e+00,\n",
       "        -1.31544430e+00],\n",
       "       [-1.26418478e+00,  7.88807586e-01, -1.22655167e+00,\n",
       "        -1.31544430e+00],\n",
       "       [-1.26418478e+00, -1.31979479e-01, -1.34022653e+00,\n",
       "        -1.44707648e+00],\n",
       "       [-1.87002413e+00, -1.31979479e-01, -1.51073881e+00,\n",
       "        -1.44707648e+00],\n",
       "       [-5.25060772e-02,  2.16998818e+00, -1.45390138e+00,\n",
       "        -1.31544430e+00],\n",
       "       [-1.73673948e-01,  3.09077525e+00, -1.28338910e+00,\n",
       "        -1.05217993e+00],\n",
       "       [-5.37177559e-01,  1.93979142e+00, -1.39706395e+00,\n",
       "        -1.05217993e+00],\n",
       "       [-9.00681170e-01,  1.01900435e+00, -1.34022653e+00,\n",
       "        -1.18381211e+00],\n",
       "       [-1.73673948e-01,  1.70959465e+00, -1.16971425e+00,\n",
       "        -1.18381211e+00],\n",
       "       [-9.00681170e-01,  1.70959465e+00, -1.28338910e+00,\n",
       "        -1.18381211e+00],\n",
       "       [-5.37177559e-01,  7.88807586e-01, -1.16971425e+00,\n",
       "        -1.31544430e+00],\n",
       "       [-9.00681170e-01,  1.47939788e+00, -1.28338910e+00,\n",
       "        -1.05217993e+00],\n",
       "       [-1.50652052e+00,  1.24920112e+00, -1.56757623e+00,\n",
       "        -1.31544430e+00],\n",
       "       [-9.00681170e-01,  5.58610819e-01, -1.16971425e+00,\n",
       "        -9.20547742e-01],\n",
       "       [-1.26418478e+00,  7.88807586e-01, -1.05603939e+00,\n",
       "        -1.31544430e+00],\n",
       "       [-1.02184904e+00, -1.31979479e-01, -1.22655167e+00,\n",
       "        -1.31544430e+00],\n",
       "       [-1.02184904e+00,  7.88807586e-01, -1.22655167e+00,\n",
       "        -1.05217993e+00],\n",
       "       [-7.79513300e-01,  1.01900435e+00, -1.28338910e+00,\n",
       "        -1.31544430e+00],\n",
       "       [-7.79513300e-01,  7.88807586e-01, -1.34022653e+00,\n",
       "        -1.31544430e+00],\n",
       "       [-1.38535265e+00,  3.28414053e-01, -1.22655167e+00,\n",
       "        -1.31544430e+00],\n",
       "       [-1.26418478e+00,  9.82172869e-02, -1.22655167e+00,\n",
       "        -1.31544430e+00],\n",
       "       [-5.37177559e-01,  7.88807586e-01, -1.28338910e+00,\n",
       "        -1.05217993e+00],\n",
       "       [-7.79513300e-01,  2.40018495e+00, -1.28338910e+00,\n",
       "        -1.44707648e+00],\n",
       "       [-4.16009689e-01,  2.63038172e+00, -1.34022653e+00,\n",
       "        -1.31544430e+00],\n",
       "       [-1.14301691e+00,  9.82172869e-02, -1.28338910e+00,\n",
       "        -1.31544430e+00],\n",
       "       [-1.02184904e+00,  3.28414053e-01, -1.45390138e+00,\n",
       "        -1.31544430e+00],\n",
       "       [-4.16009689e-01,  1.01900435e+00, -1.39706395e+00,\n",
       "        -1.31544430e+00],\n",
       "       [-1.14301691e+00,  1.24920112e+00, -1.34022653e+00,\n",
       "        -1.44707648e+00],\n",
       "       [-1.74885626e+00, -1.31979479e-01, -1.39706395e+00,\n",
       "        -1.31544430e+00],\n",
       "       [-9.00681170e-01,  7.88807586e-01, -1.28338910e+00,\n",
       "        -1.31544430e+00],\n",
       "       [-1.02184904e+00,  1.01900435e+00, -1.39706395e+00,\n",
       "        -1.18381211e+00],\n",
       "       [-1.62768839e+00, -1.74335684e+00, -1.39706395e+00,\n",
       "        -1.18381211e+00],\n",
       "       [-1.74885626e+00,  3.28414053e-01, -1.39706395e+00,\n",
       "        -1.31544430e+00],\n",
       "       [-1.02184904e+00,  1.01900435e+00, -1.22655167e+00,\n",
       "        -7.88915558e-01],\n",
       "       [-9.00681170e-01,  1.70959465e+00, -1.05603939e+00,\n",
       "        -1.05217993e+00],\n",
       "       [-1.26418478e+00, -1.31979479e-01, -1.34022653e+00,\n",
       "        -1.18381211e+00],\n",
       "       [-9.00681170e-01,  1.70959465e+00, -1.22655167e+00,\n",
       "        -1.31544430e+00],\n",
       "       [-1.50652052e+00,  3.28414053e-01, -1.34022653e+00,\n",
       "        -1.31544430e+00],\n",
       "       [-6.58345429e-01,  1.47939788e+00, -1.28338910e+00,\n",
       "        -1.31544430e+00],\n",
       "       [-1.02184904e+00,  5.58610819e-01, -1.34022653e+00,\n",
       "        -1.31544430e+00],\n",
       "       [ 1.40150837e+00,  3.28414053e-01,  5.35408562e-01,\n",
       "         2.64141916e-01],\n",
       "       [ 6.74501145e-01,  3.28414053e-01,  4.21733708e-01,\n",
       "         3.95774101e-01],\n",
       "       [ 1.28034050e+00,  9.82172869e-02,  6.49083415e-01,\n",
       "         3.95774101e-01],\n",
       "       [-4.16009689e-01, -1.74335684e+00,  1.37546573e-01,\n",
       "         1.32509732e-01],\n",
       "       [ 7.95669016e-01, -5.92373012e-01,  4.78571135e-01,\n",
       "         3.95774101e-01],\n",
       "       [-1.73673948e-01, -5.92373012e-01,  4.21733708e-01,\n",
       "         1.32509732e-01],\n",
       "       [ 5.53333275e-01,  5.58610819e-01,  5.35408562e-01,\n",
       "         5.27406285e-01],\n",
       "       [-1.14301691e+00, -1.51316008e+00, -2.60315415e-01,\n",
       "        -2.62386821e-01],\n",
       "       [ 9.16836886e-01, -3.62176246e-01,  4.78571135e-01,\n",
       "         1.32509732e-01],\n",
       "       [-7.79513300e-01, -8.22569778e-01,  8.07091462e-02,\n",
       "         2.64141916e-01],\n",
       "       [-1.02184904e+00, -2.43394714e+00, -1.46640561e-01,\n",
       "        -2.62386821e-01],\n",
       "       [ 6.86617933e-02, -1.31979479e-01,  2.51221427e-01,\n",
       "         3.95774101e-01],\n",
       "       [ 1.89829664e-01, -1.97355361e+00,  1.37546573e-01,\n",
       "        -2.62386821e-01],\n",
       "       [ 3.10997534e-01, -3.62176246e-01,  5.35408562e-01,\n",
       "         2.64141916e-01],\n",
       "       [-2.94841818e-01, -3.62176246e-01, -8.98031345e-02,\n",
       "         1.32509732e-01],\n",
       "       [ 1.03800476e+00,  9.82172869e-02,  3.64896281e-01,\n",
       "         2.64141916e-01],\n",
       "       [-2.94841818e-01, -1.31979479e-01,  4.21733708e-01,\n",
       "         3.95774101e-01],\n",
       "       [-5.25060772e-02, -8.22569778e-01,  1.94384000e-01,\n",
       "        -2.62386821e-01],\n",
       "       [ 4.32165405e-01, -1.97355361e+00,  4.21733708e-01,\n",
       "         3.95774101e-01],\n",
       "       [-2.94841818e-01, -1.28296331e+00,  8.07091462e-02,\n",
       "        -1.30754636e-01],\n",
       "       [ 6.86617933e-02,  3.28414053e-01,  5.92245988e-01,\n",
       "         7.90670654e-01],\n",
       "       [ 3.10997534e-01, -5.92373012e-01,  1.37546573e-01,\n",
       "         1.32509732e-01],\n",
       "       [ 5.53333275e-01, -1.28296331e+00,  6.49083415e-01,\n",
       "         3.95774101e-01],\n",
       "       [ 3.10997534e-01, -5.92373012e-01,  5.35408562e-01,\n",
       "         8.77547895e-04],\n",
       "       [ 6.74501145e-01, -3.62176246e-01,  3.08058854e-01,\n",
       "         1.32509732e-01],\n",
       "       [ 9.16836886e-01, -1.31979479e-01,  3.64896281e-01,\n",
       "         2.64141916e-01],\n",
       "       [ 1.15917263e+00, -5.92373012e-01,  5.92245988e-01,\n",
       "         2.64141916e-01],\n",
       "       [ 1.03800476e+00, -1.31979479e-01,  7.05920842e-01,\n",
       "         6.59038469e-01],\n",
       "       [ 1.89829664e-01, -3.62176246e-01,  4.21733708e-01,\n",
       "         3.95774101e-01],\n",
       "       [-1.73673948e-01, -1.05276654e+00, -1.46640561e-01,\n",
       "        -2.62386821e-01],\n",
       "       [-4.16009689e-01, -1.51316008e+00,  2.38717193e-02,\n",
       "        -1.30754636e-01],\n",
       "       [-4.16009689e-01, -1.51316008e+00, -3.29657076e-02,\n",
       "        -2.62386821e-01],\n",
       "       [-5.25060772e-02, -8.22569778e-01,  8.07091462e-02,\n",
       "         8.77547895e-04],\n",
       "       [ 1.89829664e-01, -8.22569778e-01,  7.62758269e-01,\n",
       "         5.27406285e-01],\n",
       "       [-5.37177559e-01, -1.31979479e-01,  4.21733708e-01,\n",
       "         3.95774101e-01],\n",
       "       [ 1.89829664e-01,  7.88807586e-01,  4.21733708e-01,\n",
       "         5.27406285e-01],\n",
       "       [ 1.03800476e+00,  9.82172869e-02,  5.35408562e-01,\n",
       "         3.95774101e-01],\n",
       "       [ 5.53333275e-01, -1.74335684e+00,  3.64896281e-01,\n",
       "         1.32509732e-01],\n",
       "       [-2.94841818e-01, -1.31979479e-01,  1.94384000e-01,\n",
       "         1.32509732e-01],\n",
       "       [-4.16009689e-01, -1.28296331e+00,  1.37546573e-01,\n",
       "         1.32509732e-01],\n",
       "       [-4.16009689e-01, -1.05276654e+00,  3.64896281e-01,\n",
       "         8.77547895e-04],\n",
       "       [ 3.10997534e-01, -1.31979479e-01,  4.78571135e-01,\n",
       "         2.64141916e-01],\n",
       "       [-5.25060772e-02, -1.05276654e+00,  1.37546573e-01,\n",
       "         8.77547895e-04],\n",
       "       [-1.02184904e+00, -1.74335684e+00, -2.60315415e-01,\n",
       "        -2.62386821e-01],\n",
       "       [-2.94841818e-01, -8.22569778e-01,  2.51221427e-01,\n",
       "         1.32509732e-01],\n",
       "       [-1.73673948e-01, -1.31979479e-01,  2.51221427e-01,\n",
       "         8.77547895e-04],\n",
       "       [-1.73673948e-01, -3.62176246e-01,  2.51221427e-01,\n",
       "         1.32509732e-01],\n",
       "       [ 4.32165405e-01, -3.62176246e-01,  3.08058854e-01,\n",
       "         1.32509732e-01],\n",
       "       [-9.00681170e-01, -1.28296331e+00, -4.30827696e-01,\n",
       "        -1.30754636e-01],\n",
       "       [-1.73673948e-01, -5.92373012e-01,  1.94384000e-01,\n",
       "         1.32509732e-01],\n",
       "       [ 5.53333275e-01,  5.58610819e-01,  1.27429511e+00,\n",
       "         1.71209594e+00],\n",
       "       [-5.25060772e-02, -8.22569778e-01,  7.62758269e-01,\n",
       "         9.22302838e-01],\n",
       "       [ 1.52267624e+00, -1.31979479e-01,  1.21745768e+00,\n",
       "         1.18556721e+00],\n",
       "       [ 5.53333275e-01, -3.62176246e-01,  1.04694540e+00,\n",
       "         7.90670654e-01],\n",
       "       [ 7.95669016e-01, -1.31979479e-01,  1.16062026e+00,\n",
       "         1.31719939e+00],\n",
       "       [ 2.12851559e+00, -1.31979479e-01,  1.61531967e+00,\n",
       "         1.18556721e+00],\n",
       "       [-1.14301691e+00, -1.28296331e+00,  4.21733708e-01,\n",
       "         6.59038469e-01],\n",
       "       [ 1.76501198e+00, -3.62176246e-01,  1.44480739e+00,\n",
       "         7.90670654e-01],\n",
       "       [ 1.03800476e+00, -1.28296331e+00,  1.16062026e+00,\n",
       "         7.90670654e-01],\n",
       "       [ 1.64384411e+00,  1.24920112e+00,  1.33113254e+00,\n",
       "         1.71209594e+00],\n",
       "       [ 7.95669016e-01,  3.28414053e-01,  7.62758269e-01,\n",
       "         1.05393502e+00],\n",
       "       [ 6.74501145e-01, -8.22569778e-01,  8.76433123e-01,\n",
       "         9.22302838e-01],\n",
       "       [ 1.15917263e+00, -1.31979479e-01,  9.90107977e-01,\n",
       "         1.18556721e+00],\n",
       "       [-1.73673948e-01, -1.28296331e+00,  7.05920842e-01,\n",
       "         1.05393502e+00],\n",
       "       [-5.25060772e-02, -5.92373012e-01,  7.62758269e-01,\n",
       "         1.58046376e+00],\n",
       "       [ 6.74501145e-01,  3.28414053e-01,  8.76433123e-01,\n",
       "         1.44883158e+00],\n",
       "       [ 7.95669016e-01, -1.31979479e-01,  9.90107977e-01,\n",
       "         7.90670654e-01],\n",
       "       [ 2.24968346e+00,  1.70959465e+00,  1.67215710e+00,\n",
       "         1.31719939e+00],\n",
       "       [ 2.24968346e+00, -1.05276654e+00,  1.78583195e+00,\n",
       "         1.44883158e+00],\n",
       "       [ 1.89829664e-01, -1.97355361e+00,  7.05920842e-01,\n",
       "         3.95774101e-01],\n",
       "       [ 1.28034050e+00,  3.28414053e-01,  1.10378283e+00,\n",
       "         1.44883158e+00],\n",
       "       [-2.94841818e-01, -5.92373012e-01,  6.49083415e-01,\n",
       "         1.05393502e+00],\n",
       "       [ 2.24968346e+00, -5.92373012e-01,  1.67215710e+00,\n",
       "         1.05393502e+00],\n",
       "       [ 5.53333275e-01, -8.22569778e-01,  6.49083415e-01,\n",
       "         7.90670654e-01],\n",
       "       [ 1.03800476e+00,  5.58610819e-01,  1.10378283e+00,\n",
       "         1.18556721e+00],\n",
       "       [ 1.64384411e+00,  3.28414053e-01,  1.27429511e+00,\n",
       "         7.90670654e-01],\n",
       "       [ 4.32165405e-01, -5.92373012e-01,  5.92245988e-01,\n",
       "         7.90670654e-01],\n",
       "       [ 3.10997534e-01, -1.31979479e-01,  6.49083415e-01,\n",
       "         7.90670654e-01],\n",
       "       [ 6.74501145e-01, -5.92373012e-01,  1.04694540e+00,\n",
       "         1.18556721e+00],\n",
       "       [ 1.64384411e+00, -1.31979479e-01,  1.16062026e+00,\n",
       "         5.27406285e-01],\n",
       "       [ 1.88617985e+00, -5.92373012e-01,  1.33113254e+00,\n",
       "         9.22302838e-01],\n",
       "       [ 2.49201920e+00,  1.70959465e+00,  1.50164482e+00,\n",
       "         1.05393502e+00],\n",
       "       [ 6.74501145e-01, -5.92373012e-01,  1.04694540e+00,\n",
       "         1.31719939e+00],\n",
       "       [ 5.53333275e-01, -5.92373012e-01,  7.62758269e-01,\n",
       "         3.95774101e-01],\n",
       "       [ 3.10997534e-01, -1.05276654e+00,  1.04694540e+00,\n",
       "         2.64141916e-01],\n",
       "       [ 2.24968346e+00, -1.31979479e-01,  1.33113254e+00,\n",
       "         1.44883158e+00],\n",
       "       [ 5.53333275e-01,  7.88807586e-01,  1.04694540e+00,\n",
       "         1.58046376e+00],\n",
       "       [ 6.74501145e-01,  9.82172869e-02,  9.90107977e-01,\n",
       "         7.90670654e-01],\n",
       "       [ 1.89829664e-01, -1.31979479e-01,  5.92245988e-01,\n",
       "         7.90670654e-01],\n",
       "       [ 1.28034050e+00,  9.82172869e-02,  9.33270550e-01,\n",
       "         1.18556721e+00],\n",
       "       [ 1.03800476e+00,  9.82172869e-02,  1.04694540e+00,\n",
       "         1.58046376e+00],\n",
       "       [ 1.28034050e+00,  9.82172869e-02,  7.62758269e-01,\n",
       "         1.44883158e+00],\n",
       "       [-5.25060772e-02, -8.22569778e-01,  7.62758269e-01,\n",
       "         9.22302838e-01],\n",
       "       [ 1.15917263e+00,  3.28414053e-01,  1.21745768e+00,\n",
       "         1.44883158e+00],\n",
       "       [ 1.03800476e+00,  5.58610819e-01,  1.10378283e+00,\n",
       "         1.71209594e+00],\n",
       "       [ 1.03800476e+00, -1.31979479e-01,  8.19595696e-01,\n",
       "         1.44883158e+00],\n",
       "       [ 5.53333275e-01, -1.28296331e+00,  7.05920842e-01,\n",
       "         9.22302838e-01],\n",
       "       [ 7.95669016e-01, -1.31979479e-01,  8.19595696e-01,\n",
       "         1.05393502e+00],\n",
       "       [ 4.32165405e-01,  7.88807586e-01,  9.33270550e-01,\n",
       "         1.44883158e+00],\n",
       "       [ 6.86617933e-02, -1.31979479e-01,  7.62758269e-01,\n",
       "         7.90670654e-01]])"
      ]
     },
     "execution_count": 15,
     "metadata": {},
     "output_type": "execute_result"
    }
   ],
   "source": [
    "X_scaled"
   ]
  },
  {
   "cell_type": "code",
   "execution_count": 21,
   "id": "4d196d68",
   "metadata": {},
   "outputs": [
    {
     "data": {
      "text/plain": [
       "(150, 4)"
      ]
     },
     "execution_count": 21,
     "metadata": {},
     "output_type": "execute_result"
    }
   ],
   "source": [
    "X_scaled.shape"
   ]
  },
  {
   "cell_type": "code",
   "execution_count": null,
   "id": "7e574ccf",
   "metadata": {},
   "outputs": [],
   "source": []
  },
  {
   "cell_type": "code",
   "execution_count": null,
   "id": "5567cd05",
   "metadata": {},
   "outputs": [],
   "source": []
  },
  {
   "cell_type": "code",
   "execution_count": 16,
   "id": "c4b6f05c",
   "metadata": {},
   "outputs": [],
   "source": [
    "from sklearn.decomposition import PCA"
   ]
  },
  {
   "cell_type": "code",
   "execution_count": 17,
   "id": "c9baf848",
   "metadata": {},
   "outputs": [],
   "source": [
    "pca=PCA(n_components=2)"
   ]
  },
  {
   "cell_type": "code",
   "execution_count": 18,
   "id": "c7568b01",
   "metadata": {},
   "outputs": [],
   "source": [
    "pca_scaled=pca.fit_transform(X_scaled)"
   ]
  },
  {
   "cell_type": "code",
   "execution_count": 23,
   "id": "5e3a50fb",
   "metadata": {},
   "outputs": [
    {
     "data": {
      "text/plain": [
       "<matplotlib.collections.PathCollection at 0x1beb6b84dc0>"
      ]
     },
     "execution_count": 23,
     "metadata": {},
     "output_type": "execute_result"
    },
    {
     "data": {
      "image/png": "[encoded data removed]",
      "text/plain": [
       "<Figure size 432x288 with 1 Axes>"
      ]
     },
     "metadata": {
      "needs_background": "light"
     },
     "output_type": "display_data"
    }
   ],
   "source": [
    "plt.scatter(pca_scaled[:,0],pca_scaled[:,1])"
   ]
  },
  {
   "cell_type": "code",
   "execution_count": 26,
   "id": "af62e269",
   "metadata": {},
   "outputs": [
    {
     "data": {
      "text/plain": [
       "Text(0, 0.5, 'Eucledian Distance')"
      ]
     },
     "execution_count": 26,
     "metadata": {},
     "output_type": "execute_result"
    },
    {
     "data": {
      "image/png": "[encoded data removed]",
      "text/plain": [
       "<Figure size 1440x504 with 1 Axes>"
      ]
     },
     "metadata": {
      "needs_background": "light"
     },
     "output_type": "display_data"
    }
   ],
   "source": [
    "#agglomerative Clustering\n",
    "import scipy.cluster.hierarchy as sc #in sc method there is dendogram \n",
    "plt.figure(figsize=(20,7))\n",
    "plt.title(\"Dendograms\")\n",
    "\n",
    "#Create dendogram\n",
    "sc.dendrogram(sc.linkage(pca_scaled,method='ward')) #this line is fix for all are same \n",
    "plt.title('Dendogram')\n",
    "plt.xlabel('Sample Index')\n",
    "plt.ylabel('Eucledian Distance')"
   ]
  },
  {
   "cell_type": "code",
   "execution_count": 29,
   "id": "ee1692f6",
   "metadata": {},
   "outputs": [
    {
     "data": {
      "text/plain": [
       "AgglomerativeClustering()"
      ]
     },
     "execution_count": 29,
     "metadata": {},
     "output_type": "execute_result"
    }
   ],
   "source": [
    "from sklearn.cluster import AgglomerativeClustering\n",
    "cluster=AgglomerativeClustering(n_clusters=2,affinity='euclidean',linkage='ward')\n",
    "cluster.fit(pca_scaled)"
   ]
  },
  {
   "cell_type": "code",
   "execution_count": 30,
   "id": "2c4606c1",
   "metadata": {},
   "outputs": [
    {
     "data": {
      "text/plain": [
       "array([1, 1, 1, 1, 1, 1, 1, 1, 1, 1, 1, 1, 1, 1, 1, 1, 1, 1, 1, 1, 1, 1,\n",
       "       1, 1, 1, 1, 1, 1, 1, 1, 1, 1, 1, 1, 1, 1, 1, 1, 1, 1, 1, 1, 1, 1,\n",
       "       1, 1, 1, 1, 1, 1, 0, 0, 0, 0, 0, 0, 0, 0, 0, 0, 0, 0, 0, 0, 0, 0,\n",
       "       0, 0, 0, 0, 0, 0, 0, 0, 0, 0, 0, 0, 0, 0, 0, 0, 0, 0, 0, 0, 0, 0,\n",
       "       0, 0, 0, 0, 0, 0, 0, 0, 0, 0, 0, 0, 0, 0, 0, 0, 0, 0, 0, 0, 0, 0,\n",
       "       0, 0, 0, 0, 0, 0, 0, 0, 0, 0, 0, 0, 0, 0, 0, 0, 0, 0, 0, 0, 0, 0,\n",
       "       0, 0, 0, 0, 0, 0, 0, 0, 0, 0, 0, 0, 0, 0, 0, 0, 0, 0], dtype=int64)"
      ]
     },
     "execution_count": 30,
     "metadata": {},
     "output_type": "execute_result"
    }
   ],
   "source": [
    "cluster.labels_"
   ]
  },
  {
   "cell_type": "code",
   "execution_count": 31,
   "id": "d8422f11",
   "metadata": {},
   "outputs": [
    {
     "data": {
      "text/plain": [
       "<matplotlib.collections.PathCollection at 0x1beb6dd3730>"
      ]
     },
     "execution_count": 31,
     "metadata": {},
     "output_type": "execute_result"
    },
    {
     "data": {
      "image/png": "[encoded data removed]",
      "text/plain": [
       "<Figure size 432x288 with 1 Axes>"
      ]
     },
     "metadata": {
      "needs_background": "light"
     },
     "output_type": "display_data"
    }
   ],
   "source": [
    "plt.scatter(pca_scaled[:,0],pca_scaled[:,1],c=cluster.labels_)"
   ]
  },
  {
   "cell_type": "markdown",
   "id": "33220de3",
   "metadata": {},
   "source": [
    "# DBSCAN Clustering"
   ]
  },
  {
   "cell_type": "code",
   "execution_count": 32,
   "id": "6b2663a3",
   "metadata": {},
   "outputs": [],
   "source": [
    "from sklearn.cluster import DBSCAN\n",
    "from sklearn.datasets import make_moons\n",
    "import matplotlib.pyplot as plt\n",
    "%matplotlib inline"
   ]
  },
  {
   "cell_type": "code",
   "execution_count": 39,
   "id": "1ccc1041",
   "metadata": {},
   "outputs": [],
   "source": [
    "X,y=make_moons(n_samples=250,noise=0.15)"
   ]
  },
  {
   "cell_type": "code",
   "execution_count": 40,
   "id": "46be04c5",
   "metadata": {},
   "outputs": [
    {
     "data": {
      "text/plain": [
       "array([[ 0.94813069,  0.70440106],\n",
       "       [ 1.18549131, -0.41515774],\n",
       "       [ 0.21833027,  0.09271446],\n",
       "       [ 0.34452833, -0.35556226],\n",
       "       [-1.16892861,  0.18412161],\n",
       "       [ 1.05546078,  0.20014173],\n",
       "       [ 1.32630937, -0.40408433],\n",
       "       [-0.07171892,  1.33839947],\n",
       "       [ 1.06406387,  0.3842719 ],\n",
       "       [ 2.08488634,  0.23116668],\n",
       "       [ 0.04233688,  0.43023912],\n",
       "       [-0.96505328,  0.45609165],\n",
       "       [-1.01883266,  0.29821164],\n",
       "       [ 0.14802278,  0.07492628],\n",
       "       [ 0.88005934,  0.3001794 ],\n",
       "       [ 0.85614259,  0.65791194],\n",
       "       [ 1.71743149, -0.11836832],\n",
       "       [ 1.04796862,  0.57018515],\n",
       "       [ 0.16537846, -0.0687761 ],\n",
       "       [-1.18054295,  0.21970036],\n",
       "       [ 1.25628907, -0.31258834],\n",
       "       [ 1.79498485, -0.18875159],\n",
       "       [ 1.39531239, -0.30475823],\n",
       "       [ 0.02221745,  0.98710764],\n",
       "       [-0.70716913,  0.59940331],\n",
       "       [ 0.06671675,  1.06293303],\n",
       "       [-0.48871945,  0.8267996 ],\n",
       "       [ 0.56947414,  0.52284163],\n",
       "       [-0.24720453,  0.8591587 ],\n",
       "       [ 1.69204425, -0.40103113],\n",
       "       [-0.08394551,  0.2541145 ],\n",
       "       [ 1.25576016,  0.3784531 ],\n",
       "       [ 1.28003313, -0.56399096],\n",
       "       [-0.72239523,  0.36053503],\n",
       "       [-0.33257941,  0.89156939],\n",
       "       [ 0.37063834, -0.46950687],\n",
       "       [ 0.72981867,  0.79965338],\n",
       "       [-0.80282825,  0.55611683],\n",
       "       [ 0.99677536, -0.32127022],\n",
       "       [ 0.07736353,  1.07465097],\n",
       "       [ 1.62794845,  0.10993029],\n",
       "       [ 0.80108474,  0.45049025],\n",
       "       [-0.33677249,  1.09527577],\n",
       "       [ 0.38946041, -0.49414327],\n",
       "       [ 0.79586632,  0.13499061],\n",
       "       [ 0.26833368, -0.05674706],\n",
       "       [ 0.21415564,  0.94960709],\n",
       "       [-1.0468233 ,  0.24972365],\n",
       "       [-0.15765826,  0.96141792],\n",
       "       [-0.78326675, -0.02489981],\n",
       "       [ 0.04571036,  1.0762928 ],\n",
       "       [ 0.73649263,  0.39652615],\n",
       "       [-0.45295434,  0.45986223],\n",
       "       [ 0.1486071 ,  0.2049011 ],\n",
       "       [ 0.61257289,  0.7958672 ],\n",
       "       [ 0.77030657,  0.8219404 ],\n",
       "       [ 1.03877469, -0.5971534 ],\n",
       "       [ 0.36475955, -0.06032943],\n",
       "       [-0.91094489,  0.35267491],\n",
       "       [ 0.16048542,  0.102662  ],\n",
       "       [ 1.07067345, -0.51599004],\n",
       "       [-0.60251668,  0.68898929],\n",
       "       [-0.99366509,  0.07696192],\n",
       "       [-0.18621406,  0.92415234],\n",
       "       [ 1.891478  ,  0.30160308],\n",
       "       [ 0.94084964, -0.42889658],\n",
       "       [-0.1874401 ,  0.37737201],\n",
       "       [-0.04578099,  0.22136411],\n",
       "       [ 0.29769952,  0.95415056],\n",
       "       [-0.86952426,  0.64279154],\n",
       "       [ 0.05192509,  0.73657566],\n",
       "       [ 0.07774537,  0.24543601],\n",
       "       [ 0.11123093, -0.0540151 ],\n",
       "       [ 2.01818255,  0.56497909],\n",
       "       [ 0.25593783,  0.95208849],\n",
       "       [ 0.94222757,  0.38208512],\n",
       "       [ 0.77002641,  0.72650158],\n",
       "       [ 1.44051853, -0.3028246 ],\n",
       "       [-0.98802988,  0.42462812],\n",
       "       [ 1.00586497, -0.57865305],\n",
       "       [ 1.30249194,  0.20099519],\n",
       "       [ 0.52555303,  1.08284754],\n",
       "       [ 1.14902425, -0.33504597],\n",
       "       [ 0.23727069,  0.79399043],\n",
       "       [ 0.63854535,  0.66922857],\n",
       "       [ 0.92891048,  0.30444021],\n",
       "       [ 1.98030191,  0.5268114 ],\n",
       "       [ 0.94288779,  0.44156146],\n",
       "       [-0.65125259,  0.85227881],\n",
       "       [ 2.01512411,  0.62813231],\n",
       "       [-0.51353413,  0.8160975 ],\n",
       "       [ 0.23244116, -0.24679601],\n",
       "       [-0.10826888,  0.46784586],\n",
       "       [ 0.10773469,  0.04975617],\n",
       "       [-0.0516014 ,  0.27464169],\n",
       "       [ 1.1069498 , -0.56768354],\n",
       "       [ 1.81556771, -0.24661774],\n",
       "       [-0.17267097,  0.93543729],\n",
       "       [ 2.04498275,  0.2116077 ],\n",
       "       [ 0.26638231,  0.79274344],\n",
       "       [ 2.0159246 ,  0.30120445],\n",
       "       [ 2.13934   ,  0.26306991],\n",
       "       [ 0.14079786, -0.26202779],\n",
       "       [ 0.45165428,  0.07838175],\n",
       "       [ 0.43388317, -0.55480371],\n",
       "       [ 0.80679828,  0.67920994],\n",
       "       [ 0.68694817, -0.5969449 ],\n",
       "       [-0.09087633,  0.33366827],\n",
       "       [ 0.98320944,  0.31344606],\n",
       "       [ 0.07771962,  0.9689208 ],\n",
       "       [-1.26051417,  0.24962339],\n",
       "       [ 0.77846054,  0.55667995],\n",
       "       [ 0.11638209,  0.88271049],\n",
       "       [ 0.24430591,  0.61362798],\n",
       "       [ 0.79182949,  0.7944696 ],\n",
       "       [-0.27619426,  0.8735456 ],\n",
       "       [ 1.51239125, -0.27728296],\n",
       "       [ 0.34669633, -0.12161855],\n",
       "       [ 2.04665989,  0.43404745],\n",
       "       [ 0.4879505 ,  0.79951259],\n",
       "       [ 0.30164199, -0.29052799],\n",
       "       [-0.55614577,  0.70249703],\n",
       "       [ 0.58220305,  0.73885794],\n",
       "       [ 0.54870439, -0.67453567],\n",
       "       [ 0.66562428,  0.68428848],\n",
       "       [-0.70218609,  0.6226017 ],\n",
       "       [ 1.89043752,  0.26440688],\n",
       "       [ 0.37996639, -0.26256283],\n",
       "       [-1.16047209, -0.07824381],\n",
       "       [ 1.30257982, -0.54196703],\n",
       "       [-0.06282543,  0.92916432],\n",
       "       [ 0.90326159, -0.02345461],\n",
       "       [ 1.8499932 , -0.00396474],\n",
       "       [-0.65659324,  0.50280529],\n",
       "       [ 0.45016955, -0.23145852],\n",
       "       [ 0.75743622, -0.46171746],\n",
       "       [ 1.66376955, -0.38861585],\n",
       "       [-0.17355235,  1.03466999],\n",
       "       [-0.62489533,  0.45009366],\n",
       "       [ 0.56357048,  0.92008355],\n",
       "       [ 1.10368033, -0.97625033],\n",
       "       [ 1.52188464, -0.09270049],\n",
       "       [ 0.81987084,  0.18321372],\n",
       "       [ 1.74718425, -0.42007858],\n",
       "       [-0.52067384,  0.47880582],\n",
       "       [-0.57476026,  0.87986253],\n",
       "       [-0.08585091,  0.28119783],\n",
       "       [ 1.38407528, -0.10245599],\n",
       "       [ 1.80345087,  0.01151514],\n",
       "       [ 1.72473271, -0.10591992],\n",
       "       [-0.15882602,  0.14692604],\n",
       "       [ 0.15446381, -0.10612794],\n",
       "       [ 0.01450224,  0.16477723],\n",
       "       [ 2.0803764 ,  0.20753563],\n",
       "       [-0.64430277,  0.50963874],\n",
       "       [ 1.43238802, -0.51592751],\n",
       "       [ 1.94108019, -0.00268606],\n",
       "       [-0.81336208,  0.13576568],\n",
       "       [ 1.37007047, -0.54712103],\n",
       "       [ 0.22049436, -0.40572814],\n",
       "       [ 0.81823708,  0.30879285],\n",
       "       [ 0.39146454, -0.02223985],\n",
       "       [ 1.14943661,  0.47378357],\n",
       "       [ 0.76986739,  0.5782367 ],\n",
       "       [ 2.10361908,  0.41284943],\n",
       "       [ 0.46477111, -0.48095297],\n",
       "       [ 1.40584907, -0.3763907 ],\n",
       "       [ 0.25144191, -0.2483071 ],\n",
       "       [ 1.08343287,  0.14413992],\n",
       "       [ 0.1883014 ,  0.22929756],\n",
       "       [ 1.90433282,  0.02789983],\n",
       "       [ 0.98993212, -0.4116394 ],\n",
       "       [ 0.2526049 ,  1.00225622],\n",
       "       [ 2.05429347,  0.23156524],\n",
       "       [ 0.38997201,  1.05475931],\n",
       "       [ 0.70674116, -0.48373796],\n",
       "       [ 0.46532778,  0.73760003],\n",
       "       [-0.90452182,  0.40136429],\n",
       "       [ 1.45878707, -0.35372033],\n",
       "       [ 0.52480388, -0.22758276],\n",
       "       [-0.88191501,  0.64543374],\n",
       "       [ 0.56344319,  0.94913159],\n",
       "       [ 1.40794189, -0.52146763],\n",
       "       [-0.72469762,  0.51449372],\n",
       "       [ 0.7236324 ,  0.0064248 ],\n",
       "       [ 0.61893128, -0.44407315],\n",
       "       [-1.16086554,  0.25268244],\n",
       "       [ 0.38324612,  0.95359014],\n",
       "       [ 1.48902191, -0.3123082 ],\n",
       "       [ 0.99161449,  0.37254067],\n",
       "       [ 1.18066258, -0.2520388 ],\n",
       "       [ 1.4826618 , -0.14608978],\n",
       "       [-0.67709023,  0.74250052],\n",
       "       [ 1.31303039, -0.29848858],\n",
       "       [ 0.46842698, -0.27520557],\n",
       "       [ 1.71211634, -0.09774168],\n",
       "       [ 1.25255274, -0.61820975],\n",
       "       [ 0.68826418, -0.5298981 ],\n",
       "       [-0.83774359,  0.28951302],\n",
       "       [ 1.85187885, -0.0284082 ],\n",
       "       [-0.60487127,  0.73901176],\n",
       "       [ 0.9985988 , -0.38700542],\n",
       "       [ 0.03533381,  0.28763725],\n",
       "       [ 1.59096527, -0.26628721],\n",
       "       [ 2.12066802,  0.35305201],\n",
       "       [ 0.17931324, -0.18567622],\n",
       "       [ 0.36965547,  1.00969714],\n",
       "       [ 1.05772867,  0.12628792],\n",
       "       [-0.8650083 ,  0.67793381],\n",
       "       [ 1.25372002, -0.91620138],\n",
       "       [ 2.12972956,  0.59817654],\n",
       "       [-0.10396059,  1.35272774],\n",
       "       [-1.05444545,  0.3398061 ],\n",
       "       [ 0.74245862, -0.73576816],\n",
       "       [ 0.46032203, -0.13372914],\n",
       "       [ 0.26778634, -0.17090373],\n",
       "       [ 1.66370074, -0.36014361],\n",
       "       [ 1.03060431, -0.89230507],\n",
       "       [-0.80428559,  0.08030116],\n",
       "       [-0.27446228,  0.30234288],\n",
       "       [ 0.96058714,  0.55583067],\n",
       "       [ 1.80984567,  0.12464793],\n",
       "       [ 1.08072492,  0.29529699],\n",
       "       [-0.31493591,  0.75896047],\n",
       "       [ 0.60838319, -0.62483682],\n",
       "       [-0.92502554,  0.15926996],\n",
       "       [-0.90304383,  0.49560239],\n",
       "       [ 0.85109075, -0.52199896],\n",
       "       [-0.8936831 ,  0.04241207],\n",
       "       [ 0.21836923,  0.85500133],\n",
       "       [-0.09377906,  0.80320251],\n",
       "       [ 0.05877637,  1.2292375 ],\n",
       "       [ 0.53403775, -0.35839558],\n",
       "       [ 2.03604066, -0.10468835],\n",
       "       [ 1.81880632,  0.19488231],\n",
       "       [ 1.81903734, -0.14624955],\n",
       "       [ 0.74865588, -0.38325632],\n",
       "       [-0.76275209,  0.741297  ],\n",
       "       [ 1.03872636,  0.09881447],\n",
       "       [-0.03310796,  0.89981089],\n",
       "       [ 0.49464425, -0.34801042],\n",
       "       [-1.02069993,  0.37471511],\n",
       "       [-0.25600786, -0.3339203 ],\n",
       "       [-1.09698156,  0.02948134],\n",
       "       [-0.31693839,  1.07461556],\n",
       "       [-0.33643786,  0.92113627],\n",
       "       [-0.36905081,  1.07277713],\n",
       "       [-0.02701856,  0.92557942],\n",
       "       [ 2.02468412, -0.59007203],\n",
       "       [-0.19355593,  1.1219911 ]])"
      ]
     },
     "execution_count": 40,
     "metadata": {},
     "output_type": "execute_result"
    }
   ],
   "source": [
    "X"
   ]
  },
  {
   "cell_type": "code",
   "execution_count": 41,
   "id": "4c6ff8e5",
   "metadata": {},
   "outputs": [
    {
     "data": {
      "text/plain": [
       "<matplotlib.collections.PathCollection at 0x1beb733c310>"
      ]
     },
     "execution_count": 41,
     "metadata": {},
     "output_type": "execute_result"
    },
    {
     "data": {
      "image/png": "[encoded data removed]",
      "text/plain": [
       "<Figure size 432x288 with 1 Axes>"
      ]
     },
     "metadata": {
      "needs_background": "light"
     },
     "output_type": "display_data"
    }
   ],
   "source": [
    "plt.scatter(X[:,0],X[:,1])"
   ]
  },
  {
   "cell_type": "code",
   "execution_count": 42,
   "id": "fb969793",
   "metadata": {},
   "outputs": [],
   "source": [
    "#feature ScalingStandard Scaling\n",
    "from sklearn.preprocessing import StandardScaler\n",
    "scaler=StandardScaler()"
   ]
  },
  {
   "cell_type": "code",
   "execution_count": 43,
   "id": "676b279a",
   "metadata": {},
   "outputs": [],
   "source": [
    "X_scaled=scaler.fit_transform(X)"
   ]
  },
  {
   "cell_type": "code",
   "execution_count": 44,
   "id": "9fb12353",
   "metadata": {},
   "outputs": [
    {
     "data": {
      "text/plain": [
       "array([[ 5.12110532e-01,  9.24240527e-01],\n",
       "       [ 7.80554586e-01, -1.25951231e+00],\n",
       "       [-3.13260526e-01, -2.68883354e-01],\n",
       "       [-1.70536263e-01, -1.14326848e+00],\n",
       "       [-1.88218717e+00, -9.05893504e-02],\n",
       "       [ 6.33495977e-01, -5.93413551e-02],\n",
       "       [ 9.39813399e-01, -1.23791310e+00],\n",
       "       [-6.41292957e-01,  2.16088467e+00],\n",
       "       [ 6.43225682e-01,  2.99813330e-01],\n",
       "       [ 1.79772943e+00,  1.17429864e-03],\n",
       "       [-5.12301032e-01,  3.89474592e-01],\n",
       "       [-1.65161345e+00,  4.39901172e-01],\n",
       "       [-1.71243549e+00,  1.31948681e-01],\n",
       "       [-3.92775092e-01, -3.03580055e-01],\n",
       "       [ 4.35124938e-01,  1.35786899e-01],\n",
       "       [ 4.08076173e-01,  8.33561284e-01],\n",
       "       [ 1.38215472e+00, -6.80610397e-01],\n",
       "       [ 6.25022683e-01,  6.62446001e-01],\n",
       "       [-3.73146612e-01, -5.83878392e-01],\n",
       "       [-1.89532246e+00, -2.11913120e-02],\n",
       "       [ 8.60623635e-01, -1.05944580e+00],\n",
       "       [ 1.46986403e+00, -8.17896324e-01],\n",
       "       [ 1.01785268e+00, -1.04417280e+00],\n",
       "       [-5.35055196e-01,  1.47567320e+00],\n",
       "       [-1.35995821e+00,  7.19437400e-01],\n",
       "       [-4.84728512e-01,  1.62357424e+00],\n",
       "       [-1.11290158e+00,  1.16298472e+00],\n",
       "       [ 8.38672112e-02,  5.70100205e-01],\n",
       "       [-8.39759188e-01,  1.22610268e+00],\n",
       "       [ 1.35344291e+00, -1.23195769e+00],\n",
       "       [-6.55120674e-01,  4.59351190e-02],\n",
       "       [ 8.60025463e-01,  2.88463477e-01],\n",
       "       [ 8.87477083e-01, -1.54981861e+00],\n",
       "       [-1.37717825e+00,  2.53513432e-01],\n",
       "       [-9.36314297e-01,  1.28932129e+00],\n",
       "       [-1.41007028e-01, -1.36552288e+00],\n",
       "       [ 2.65209574e-01,  1.11003473e+00],\n",
       "       [-1.46814433e+00,  6.35005072e-01],\n",
       "       [ 5.67125444e-01, -1.07638023e+00],\n",
       "       [-4.72687490e-01,  1.64643063e+00],\n",
       "       [ 1.28095347e+00, -2.35303064e-01],\n",
       "       [ 3.45808257e-01,  4.28975387e-01],\n",
       "       [-9.41056479e-01,  1.68666029e+00],\n",
       "       [-1.19720121e-01, -1.41357735e+00],\n",
       "       [ 3.39906461e-01, -1.86421715e-01],\n",
       "       [-2.56708948e-01, -5.60415181e-01],\n",
       "       [-3.17981845e-01,  1.40252659e+00],\n",
       "       [-1.74409162e+00,  3.73705544e-02],\n",
       "       [-7.38486441e-01,  1.42556418e+00],\n",
       "       [-1.44602116e+00, -4.98295607e-01],\n",
       "       [-5.08485779e-01,  1.64963311e+00],\n",
       "       [ 2.72757522e-01,  3.23715823e-01],\n",
       "       [-1.07245286e+00,  4.47255870e-01],\n",
       "       [-3.92114257e-01, -5.00579619e-02],\n",
       "       [ 1.32609931e-01,  1.10264960e+00],\n",
       "       [ 3.10999550e-01,  1.15350662e+00],\n",
       "       [ 6.14624767e-01, -1.61450352e+00],\n",
       "       [-1.47655669e-01, -5.67402763e-01],\n",
       "       [-1.59041932e+00,  2.38181891e-01],\n",
       "       [-3.78680416e-01, -2.49480218e-01],\n",
       "       [ 6.50700818e-01, -1.45619052e+00],\n",
       "       [-1.24160106e+00,  8.94179134e-01],\n",
       "       [-1.68397211e+00, -2.99609451e-01],\n",
       "       [-7.70781741e-01,  1.35287589e+00],\n",
       "       [ 1.57899339e+00,  1.38563864e-01],\n",
       "       [ 5.03875995e-01, -1.28631058e+00],\n",
       "       [-7.72168343e-01,  2.86354763e-01],\n",
       "       [-6.11958341e-01, -1.79460873e-02],\n",
       "       [-2.23497510e-01,  1.41138885e+00],\n",
       "       [-1.54357448e+00,  8.04068224e-01],\n",
       "       [-5.01457208e-01,  9.86998615e-01],\n",
       "       [-4.72255640e-01,  2.90072992e-02],\n",
       "       [-4.34384996e-01, -5.55086362e-01],\n",
       "       [ 1.72229048e+00,  6.52291322e-01],\n",
       "       [-2.70728082e-01,  1.40736668e+00],\n",
       "       [ 5.05434370e-01,  2.95547914e-01],\n",
       "       [ 3.10682703e-01,  9.67348654e-01],\n",
       "       [ 1.06897877e+00, -1.04040116e+00],\n",
       "       [-1.67759894e+00,  3.78530058e-01],\n",
       "       [ 5.77405377e-01, -1.57841772e+00],\n",
       "       [ 9.12876977e-01, -5.76766298e-02],\n",
       "       [ 3.41944297e-02,  1.66241843e+00],\n",
       "       [ 7.39312008e-01, -1.10325049e+00],\n",
       "       [-2.91839774e-01,  1.09898887e+00],\n",
       "       [ 1.61983604e-01,  8.55634909e-01],\n",
       "       [ 4.90373349e-01,  1.44097811e-01],\n",
       "       [ 1.67944920e+00,  5.77843417e-01],\n",
       "       [ 5.06181049e-01,  4.11559358e-01],\n",
       "       [-1.29671916e+00,  1.21268313e+00],\n",
       "       [ 1.71883151e+00,  7.75474688e-01],\n",
       "       [-1.14096584e+00,  1.14210976e+00],\n",
       "       [-2.97301750e-01, -9.31114729e-01],\n",
       "       [-6.82629296e-01,  4.62828322e-01],\n",
       "       [-4.38339086e-01, -3.52675560e-01],\n",
       "       [-6.18540952e-01,  8.59743743e-02],\n",
       "       [ 6.91727710e-01, -1.55702117e+00],\n",
       "       [ 1.49314231e+00, -9.30766995e-01],\n",
       "       [-7.55465132e-01,  1.37488772e+00],\n",
       "       [ 1.75260028e+00, -3.69764275e-02],\n",
       "       [-2.58915855e-01,  1.09655656e+00],\n",
       "       [ 1.71973684e+00,  1.37786315e-01],\n",
       "       [ 1.85931404e+00,  6.34030765e-02],\n",
       "       [-4.00946151e-01, -9.60825046e-01],\n",
       "       [-4.93816868e-02, -2.96839992e-01],\n",
       "       [-6.94800080e-02, -1.53189843e+00],\n",
       "       [ 3.52270011e-01,  8.75104041e-01],\n",
       "       [ 2.16724986e-01, -1.61409685e+00],\n",
       "       [-6.62959109e-01,  2.01108539e-01],\n",
       "       [ 5.51783004e-01,  1.61664163e-01],\n",
       "       [-4.72284774e-01,  1.44019891e+00],\n",
       "       [-1.98576627e+00,  3.71749929e-02],\n",
       "       [ 3.20221313e-01,  6.36103460e-01],\n",
       "       [-4.28559269e-01,  1.27204158e+00],\n",
       "       [-2.83883252e-01,  7.47183313e-01],\n",
       "       [ 3.35340992e-01,  1.09992352e+00],\n",
       "       [-8.72545251e-01,  1.25416502e+00],\n",
       "       [ 1.15026353e+00, -9.90580975e-01],\n",
       "       [-1.68084350e-01, -6.86950125e-01],\n",
       "       [ 1.75449705e+00,  3.96902920e-01],\n",
       "       [-8.33231421e-03,  1.10976010e+00],\n",
       "       [-2.19038760e-01, -1.01641605e+00],\n",
       "       [-1.18915767e+00,  9.20526638e-01],\n",
       "       [ 9.82630281e-02,  9.91450312e-01],\n",
       "       [ 6.03775627e-02, -1.76544135e+00],\n",
       "       [ 1.92608643e-01,  8.85009979e-01],\n",
       "       [-1.35432263e+00,  7.64686981e-01],\n",
       "       [ 1.57781666e+00,  6.60108864e-02],\n",
       "       [-1.30457433e-01, -9.61868667e-01],\n",
       "       [-1.87262323e+00, -6.02345630e-01],\n",
       "       [ 9.12976367e-01, -1.50685987e+00],\n",
       "       [-6.31234817e-01,  1.36265199e+00],\n",
       "       [ 4.61365625e-01, -4.95476666e-01],\n",
       "       [ 1.53207598e+00, -4.57460758e-01],\n",
       "       [-1.30275919e+00,  5.31018370e-01],\n",
       "       [-5.10608523e-02, -9.01198212e-01],\n",
       "       [ 2.96443763e-01, -1.35032927e+00],\n",
       "       [ 1.32146551e+00, -1.20774109e+00],\n",
       "       [-7.56461933e-01,  1.56844583e+00],\n",
       "       [-1.26691030e+00,  4.28201810e-01],\n",
       "       [ 7.71904422e-02,  1.34493951e+00],\n",
       "       [ 6.88030093e-01, -2.35395016e+00],\n",
       "       [ 1.16100013e+00, -6.30544073e-01],\n",
       "       [ 3.67054481e-01, -9.23602344e-02],\n",
       "       [ 1.41580373e+00, -1.26911065e+00],\n",
       "       [-1.14904054e+00,  4.84206244e-01],\n",
       "       [-1.21020981e+00,  1.26648650e+00],\n",
       "       [-6.57275588e-01,  9.87624372e-02],\n",
       "       [ 1.00514401e+00, -6.49572627e-01],\n",
       "       [ 1.47943873e+00, -4.27266498e-01],\n",
       "       [ 1.39041207e+00, -6.56329196e-01],\n",
       "       [-7.39807119e-01, -1.63141084e-01],\n",
       "       [-3.85490587e-01, -6.56734946e-01],\n",
       "       [-5.43780745e-01, -1.28321500e-01],\n",
       "       [ 1.79262889e+00, -4.49191962e-02],\n",
       "       [-1.28885922e+00,  5.44347326e-01],\n",
       "       [ 1.05978353e+00, -1.45606855e+00],\n",
       "       [ 1.63509122e+00, -4.54966634e-01],\n",
       "       [-1.48005761e+00, -1.84909902e-01],\n",
       "       [ 9.89305220e-01, -1.51691300e+00],\n",
       "       [-3.10813031e-01, -1.24111944e+00],\n",
       "       [ 3.65206771e-01,  1.52587851e-01],\n",
       "       [-1.17453546e-01, -4.93107222e-01],\n",
       "       [ 7.39778369e-01,  4.74410106e-01],\n",
       "       [ 3.10502854e-01,  6.78150919e-01],\n",
       "       [ 1.81891531e+00,  3.55555175e-01],\n",
       "       [-3.45471535e-02, -1.38784905e+00],\n",
       "       [ 1.02976918e+00, -1.18389535e+00],\n",
       "       [-2.75812766e-01, -9.34062176e-01],\n",
       "       [ 6.65131140e-01, -1.68575552e-01],\n",
       "       [-3.47221811e-01, -2.47150706e-03],\n",
       "       [ 1.59353162e+00, -3.95307391e-01],\n",
       "       [ 5.59386041e-01, -1.25264963e+00],\n",
       "       [-2.74497482e-01,  1.50522122e+00],\n",
       "       [ 1.76313028e+00,  1.95170298e-03],\n",
       "       [-1.19141524e-01,  1.60763101e+00],\n",
       "       [ 2.39109965e-01, -1.39328131e+00],\n",
       "       [-3.39175809e-02,  9.88996696e-01],\n",
       "       [-1.58315513e+00,  3.33152848e-01],\n",
       "       [ 1.08963966e+00, -1.13967572e+00],\n",
       "       [ 3.33471776e-02, -8.93638362e-01],\n",
       "       [-1.55758785e+00,  8.09221964e-01],\n",
       "       [ 7.70464817e-02,  1.40159910e+00],\n",
       "       [ 1.03213607e+00, -1.46687482e+00],\n",
       "       [-1.37978215e+00,  5.53817199e-01],\n",
       "       [ 2.58213184e-01, -4.37195459e-01],\n",
       "       [ 1.39800982e-01, -1.31591319e+00],\n",
       "       [-1.87306820e+00,  4.31418136e-02],\n",
       "       [-1.26748206e-01,  1.41029571e+00],\n",
       "       [ 1.12383388e+00, -1.05889937e+00],\n",
       "       [ 5.61288732e-01,  2.76931012e-01],\n",
       "       [ 7.75093512e-01, -9.41341029e-01],\n",
       "       [ 1.11664089e+00, -7.34682418e-01],\n",
       "       [-1.32594035e+00,  9.98555338e-01],\n",
       "       [ 9.24795482e-01, -1.03194356e+00],\n",
       "       [-3.04125283e-02, -9.86528923e-01],\n",
       "       [ 1.37614353e+00, -6.40377156e-01],\n",
       "       [ 8.56398018e-01, -1.65557494e+00],\n",
       "       [ 2.18213336e-01, -1.48331885e+00],\n",
       "       [-1.50763199e+00,  1.14981609e-01],\n",
       "       [ 1.53420857e+00, -5.05138896e-01],\n",
       "       [-1.24426399e+00,  9.91750354e-01],\n",
       "       [ 5.69187663e-01, -1.20459987e+00],\n",
       "       [-5.20221195e-01,  1.11322839e-01],\n",
       "       [ 1.23912718e+00, -9.69133252e-01],\n",
       "       [ 1.83819688e+00,  2.38917457e-01],\n",
       "       [-3.57387012e-01, -8.11897656e-01],\n",
       "       [-1.42118609e-01,  1.51973510e+00],\n",
       "       [ 6.36060853e-01, -2.03396716e-01],\n",
       "       [-1.53846714e+00,  8.72614894e-01],\n",
       "       [ 8.57718151e-01, -2.23682184e+00],\n",
       "       [ 1.84844507e+00,  7.17044544e-01],\n",
       "       [-6.77756810e-01,  2.18883265e+00],\n",
       "       [-1.75271192e+00,  2.13080664e-01],\n",
       "       [ 2.79504788e-01, -1.88487824e+00],\n",
       "       [-3.95788635e-02, -7.10572409e-01],\n",
       "       [-2.57327959e-01, -7.83083223e-01],\n",
       "       [ 1.32138769e+00, -1.15220462e+00],\n",
       "       [ 6.05384443e-01, -2.19021094e+00],\n",
       "       [-1.46979251e+00, -2.93096089e-01],\n",
       "       [-8.70586462e-01,  1.40006880e-01],\n",
       "       [ 5.26198207e-01,  6.34446905e-01],\n",
       "       [ 1.48667095e+00, -2.06595601e-01],\n",
       "       [ 6.62068569e-01,  1.26263518e-01],\n",
       "       [-9.16360303e-01,  1.03066127e+00],\n",
       "       [ 1.27871577e-01, -1.66850136e+00],\n",
       "       [-1.60634390e+00, -1.39063677e-01],\n",
       "       [-1.58148358e+00,  5.16968758e-01],\n",
       "       [ 4.02362782e-01, -1.46791121e+00],\n",
       "       [-1.57089702e+00, -3.67000564e-01],\n",
       "       [-3.13216464e-01,  1.21799355e+00],\n",
       "       [-6.66241974e-01,  1.11695747e+00],\n",
       "       [-4.93708717e-01,  1.94795904e+00],\n",
       "       [ 4.37902687e-02, -1.14879501e+00],\n",
       "       [ 1.74248719e+00, -6.53926963e-01],\n",
       "       [ 1.49680504e+00, -6.96001036e-02],\n",
       "       [ 1.49706631e+00, -7.34994069e-01],\n",
       "       [ 2.86513597e-01, -1.19728707e+00],\n",
       "       [-1.42282001e+00,  9.96207813e-01],\n",
       "       [ 6.14570106e-01, -2.56985008e-01],\n",
       "       [-5.97625716e-01,  1.30539673e+00],\n",
       "       [-7.61990564e-04, -1.12853827e+00],\n",
       "       [-1.71454728e+00,  2.81172352e-01],\n",
       "       [-8.49715362e-01, -1.10105482e+00],\n",
       "       [-1.80081833e+00, -3.92222582e-01],\n",
       "       [-9.18625014e-01,  1.64636156e+00],\n",
       "       [-9.40678027e-01,  1.34699290e+00],\n",
       "       [-9.77561785e-01,  1.64277562e+00],\n",
       "       [-5.90738886e-01,  1.35565948e+00],\n",
       "       [ 1.72964345e+00, -1.60069098e+00],\n",
       "       [-7.79085064e-01,  1.73876982e+00]])"
      ]
     },
     "execution_count": 44,
     "metadata": {},
     "output_type": "execute_result"
    }
   ],
   "source": [
    "X_scaled"
   ]
  },
  {
   "cell_type": "code",
   "execution_count": 47,
   "id": "5280e3e1",
   "metadata": {},
   "outputs": [],
   "source": [
    "dbcan=DBSCAN(eps=0.3)"
   ]
  },
  {
   "cell_type": "code",
   "execution_count": 48,
   "id": "b17e49f9",
   "metadata": {},
   "outputs": [
    {
     "data": {
      "text/plain": [
       "DBSCAN(eps=0.3)"
      ]
     },
     "execution_count": 48,
     "metadata": {},
     "output_type": "execute_result"
    }
   ],
   "source": [
    "dbcan.fit(X_scaled)"
   ]
  },
  {
   "cell_type": "code",
   "execution_count": 49,
   "id": "51bf99cc",
   "metadata": {},
   "outputs": [
    {
     "data": {
      "text/plain": [
       "array([ 0,  1,  1,  1,  0,  0,  1, -1,  0,  1,  1,  0,  0,  1,  0,  0,  1,\n",
       "        0,  1,  0,  1,  1,  1,  0,  0,  0,  0,  0,  0,  1,  1,  0,  1,  0,\n",
       "        0,  1,  0,  0,  1,  0,  1,  0,  0,  1,  0,  1,  0,  0,  0,  0,  0,\n",
       "        0,  0,  1,  0,  0,  1,  1,  0,  1,  1,  0,  0,  0,  1,  1,  1,  1,\n",
       "        0,  0,  0,  1,  1,  1,  0,  0,  0,  1,  0,  1,  0,  0,  1,  0,  0,\n",
       "        0,  1,  0,  0,  1,  0,  1,  1,  1,  1,  1,  1,  0,  1,  0,  1,  1,\n",
       "        1,  1,  1,  0,  1,  1,  0,  0,  0,  0,  0, -1,  0,  0,  1,  1,  1,\n",
       "        0,  1,  0,  0,  1,  0,  0,  1,  1, -1,  1,  0,  0,  1,  0,  1,  1,\n",
       "        1,  0,  0,  0, -1,  1,  0,  1,  0,  0,  1,  1,  1,  1,  1,  1,  1,\n",
       "        1,  0,  1,  1,  0,  1,  1,  0,  1,  0,  0,  1,  1,  1,  1,  0,  1,\n",
       "        1,  1,  0,  1,  0,  1,  0,  0,  1,  1,  0,  0,  1,  0,  0,  1,  0,\n",
       "        0,  1,  0,  1,  1,  0,  1,  1,  1,  1,  1,  0,  1,  0,  1,  1,  1,\n",
       "        1,  1,  0,  0,  0, -1,  1, -1,  0,  1,  1,  1,  1, -1,  0,  1,  0,\n",
       "        1,  0,  0,  1,  0,  0,  1,  0,  0,  0,  0,  1,  1,  1,  1,  1,  0,\n",
       "        0,  0,  1,  0, -1,  0,  0,  0,  0,  0, -1,  0], dtype=int64)"
      ]
     },
     "execution_count": 49,
     "metadata": {},
     "output_type": "execute_result"
    }
   ],
   "source": [
    "dbcan.labels_"
   ]
  },
  {
   "cell_type": "code",
   "execution_count": 50,
   "id": "2619f7bf",
   "metadata": {},
   "outputs": [
    {
     "data": {
      "text/plain": [
       "<matplotlib.collections.PathCollection at 0x1beb73a53d0>"
      ]
     },
     "execution_count": 50,
     "metadata": {},
     "output_type": "execute_result"
    },
    {
     "data": {
      "image/png": "[encoded data removed]",
      "text/plain": [
       "<Figure size 432x288 with 1 Axes>"
      ]
     },
     "metadata": {
      "needs_background": "light"
     },
     "output_type": "display_data"
    }
   ],
   "source": [
    "plt.scatter(X[:,0],X[:,1],c=dbcan.labels_) #we can see noise(outlires)"
   ]
  },
  {
   "cell_type": "code",
   "execution_count": 51,
   "id": "091fbe63",
   "metadata": {},
   "outputs": [
    {
     "data": {
      "text/plain": [
       "<matplotlib.collections.PathCollection at 0x1beb76364c0>"
      ]
     },
     "execution_count": 51,
     "metadata": {},
     "output_type": "execute_result"
    },
    {
     "data": {
      "image/png": "[encoded data removed]",
      "text/plain": [
       "<Figure size 432x288 with 1 Axes>"
      ]
     },
     "metadata": {
      "needs_background": "light"
     },
     "output_type": "display_data"
    }
   ],
   "source": [
    "plt.scatter(X[:,0],X[:,1],c=y) #this is simple graf"
   ]
  },
  {
   "cell_type": "code",
   "execution_count": null,
   "id": "0361535a",
   "metadata": {},
   "outputs": [],
   "source": []
  }
 ],
 "metadata": {
  "kernelspec": {
   "display_name": "Python 3 (ipykernel)",
   "language": "python",
   "name": "python3"
  },
  "language_info": {
   "codemirror_mode": {
    "name": "ipython",
    "version": 3
   },
   "file_extension": ".py",
   "mimetype": "text/x-python",
   "name": "python",
   "nbconvert_exporter": "python",
   "pygments_lexer": "ipython3",
   "version": "3.9.12"
  }
 },
 "nbformat": 4,
 "nbformat_minor": 5
}
